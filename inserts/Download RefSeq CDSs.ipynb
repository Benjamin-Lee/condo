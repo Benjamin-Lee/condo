{
 "cells": [
  {
   "cell_type": "markdown",
   "metadata": {},
   "source": [
    "# Download all the RefSeq CDSs\n",
    "\n",
    "To be specific, we want all the CDSs for the prokaryotes. The list of prokaryotes is listed [here](https://www.ncbi.nlm.nih.gov/genome/browse#!/prokaryotes/refseq_category:reference) and provides a handy download link (no web scraping required!). "
   ]
  },
  {
   "cell_type": "code",
   "execution_count": 1,
   "metadata": {},
   "outputs": [
    {
     "name": "stderr",
     "output_type": "stream",
     "text": [
      "/Users/BenjaminLee/Desktop/Python/Research/sequences/env/lib/python3.6/importlib/_bootstrap.py:205: RuntimeWarning: numpy.dtype size changed, may indicate binary incompatibility. Expected 96, got 88\n",
      "  return f(*args, **kwds)\n",
      "/Users/BenjaminLee/Desktop/Python/Research/sequences/env/lib/python3.6/site-packages/ipykernel_launcher.py:2: FutureWarning: from_csv is deprecated. Please use read_csv(...) instead. Note that some of the default arguments are different, so please refer to the documentation for from_csv when changing your function calls\n",
      "  \n"
     ]
    }
   ],
   "source": [
    "import pandas as pd\n",
    "df = pd.DataFrame.from_csv(\"prokaryotes.csv\")"
   ]
  },
  {
   "cell_type": "markdown",
   "metadata": {},
   "source": [
    "With the prokaryote list, we now want to generate a list of URLs containing the CDS FASTA files."
   ]
  },
  {
   "cell_type": "code",
   "execution_count": 2,
   "metadata": {},
   "outputs": [],
   "source": [
    "urls = []\n",
    "for i in df[\"RefSeq FTP\"]:\n",
    "    urls.append(f\"https{i[3:]}/{i.split('/')[-1]}_cds_from_genomic.fna.gz\")"
   ]
  },
  {
   "cell_type": "markdown",
   "metadata": {},
   "source": [
    "Lastly, we'll go to all the URLs, download, unzip, and save it to a FASTA file."
   ]
  },
  {
   "cell_type": "code",
   "execution_count": 6,
   "metadata": {},
   "outputs": [
    {
     "name": "stderr",
     "output_type": "stream",
     "text": [
      "100%|██████████| 120/120 [02:41<00:00,  1.35s/it]\n"
     ]
    }
   ],
   "source": [
    "import urllib.request\n",
    "import gzip\n",
    "from tqdm import tqdm\n",
    "\n",
    "for url in tqdm(urls):\n",
    "    with urllib.request.urlopen(url) as response:\n",
    "        with gzip.GzipFile(fileobj=response) as uncompressed:\n",
    "            file_header = uncompressed.read()\n",
    "            with open(\"all_refseq_prokaryote_CDS.fasta\", \"ab+\") as f:\n",
    "                f.write(file_header)"
   ]
  }
 ],
 "metadata": {
  "kernelspec": {
   "display_name": "Python 3",
   "language": "python",
   "name": "python3"
  },
  "language_info": {
   "codemirror_mode": {
    "name": "ipython",
    "version": 3
   },
   "file_extension": ".py",
   "mimetype": "text/x-python",
   "name": "python",
   "nbconvert_exporter": "python",
   "pygments_lexer": "ipython3",
   "version": "3.6.0"
  }
 },
 "nbformat": 4,
 "nbformat_minor": 2
}
