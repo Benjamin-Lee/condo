{
 "cells": [
  {
   "cell_type": "markdown",
   "metadata": {},
   "source": [
    "# Download HEG database\n",
    "\n",
    "Unfortunately, the HEG database does not have an autmated way to download all the sequences, so we'll have to do that ourselves. We'll be using Requests and Beautiful Soup for that. First, let's get the list of all the species in the database."
   ]
  },
  {
   "cell_type": "code",
   "execution_count": 1,
   "metadata": {},
   "outputs": [],
   "source": [
    "from requests import Session\n",
    "session = Session()\n",
    "r = session.get(\"http://genomes.urv.cat/HEG-DB/consulta/valors_org.php?nom%5B%5D=ALL\")"
   ]
  },
  {
   "cell_type": "markdown",
   "metadata": {},
   "source": [
    "Now, let's parse out the links to the FASTA files."
   ]
  },
  {
   "cell_type": "code",
   "execution_count": 2,
   "metadata": {},
   "outputs": [],
   "source": [
    "from bs4 import BeautifulSoup\n",
    "soup = BeautifulSoup(r.text, \"html.parser\")"
   ]
  },
  {
   "cell_type": "code",
   "execution_count": 3,
   "metadata": {},
   "outputs": [],
   "source": [
    "genomes = []\n",
    "for td in soup.find_all(attrs={\"target\": \"hpg\"}):\n",
    "    if td.text == \"fasta\":\n",
    "        genomes.append(td.attrs[\"href\"][7:])"
   ]
  },
  {
   "cell_type": "markdown",
   "metadata": {},
   "source": [
    "With the links to the FASTAs in hand, let's go and download them all."
   ]
  },
  {
   "cell_type": "code",
   "execution_count": 4,
   "metadata": {},
   "outputs": [],
   "source": [
    "for genome in genomes:\n",
    "    with open(f\"heg/{genome}\", \"w+\") as f:\n",
    "        f.write(session.get(\"http://genomes.urv.cat/HEG-DB/heg/\" + genome).text)"
   ]
  }
 ],
 "metadata": {
  "kernelspec": {
   "display_name": "Python 3",
   "language": "python",
   "name": "python3"
  },
  "language_info": {
   "codemirror_mode": {
    "name": "ipython",
    "version": 3
   },
   "file_extension": ".py",
   "mimetype": "text/x-python",
   "name": "python",
   "nbconvert_exporter": "python",
   "pygments_lexer": "ipython3",
   "version": "3.6.0"
  }
 },
 "nbformat": 4,
 "nbformat_minor": 2
}
